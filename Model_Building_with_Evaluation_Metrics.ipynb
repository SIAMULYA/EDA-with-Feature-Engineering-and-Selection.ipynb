{
  "nbformat": 4,
  "nbformat_minor": 0,
  "metadata": {
    "kernelspec": {
      "display_name": "Python 3",
      "language": "python",
      "name": "python3"
    },
    "language_info": {
      "codemirror_mode": {
        "name": "ipython",
        "version": 3
      },
      "file_extension": ".py",
      "mimetype": "text/x-python",
      "name": "python",
      "nbconvert_exporter": "python",
      "pygments_lexer": "ipython3",
      "version": "3.6.7"
    },
    "colab": {
      "name": "Model Building with Evaluation Metrics",
      "provenance": [],
      "collapsed_sections": [],
      "include_colab_link": true
    }
  },
  "cells": [
    {
      "cell_type": "markdown",
      "metadata": {
        "id": "view-in-github",
        "colab_type": "text"
      },
      "source": [
        "<a href=\"https://colab.research.google.com/github/SIAMULYA/EDA-with-Feature-Engineering-and-Selection.ipynb/blob/main/Model_Building_with_Evaluation_Metrics.ipynb\" target=\"_parent\"><img src=\"https://colab.research.google.com/assets/colab-badge.svg\" alt=\"Open In Colab\"/></a>"
      ]
    },
    {
      "cell_type": "code",
      "metadata": {
        "colab": {
          "base_uri": "https://localhost:8080/"
        },
        "id": "jWQ6GFNbx01O",
        "outputId": "55b472eb-c98d-4c56-daff-6afc6ed36777"
      },
      "source": [
        "# Evaluation Metrics for Random Forest algorithm\n",
        "print(\"MAE\",mean_absolute_error(y_train, predictions))\n",
        "print(\"MSE\",mean_squared_error(y_train, predictions))\n",
        "print(\"RMSE\",np.sqrt(mean_squared_error(y_train, predictions)))\n",
        "print(\"RMSE Logarithmic\",np.log(np.sqrt(mean_squared_error(y_train, predictions))))"
      ],
      "execution_count": null,
      "outputs": [
        {
          "output_type": "stream",
          "name": "stdout",
          "text": [
            "MAE 0.01139074424552362\n",
            "MSE 0.0002947091517772105\n",
            "RMSE 0.01716709503023766\n",
            "RMSE Logarithmic -4.064760807074155\n"
          ]
        }
      ]
    },
    {
      "cell_type": "code",
      "metadata": {
        "colab": {
          "base_uri": "https://localhost:8080/"
        },
        "id": "FPmtPrTLyDu5",
        "outputId": "db6f3cc2-e74c-4cb2-a28e-1bd2ab373eb7"
      },
      "source": [
        "r2 = r2_score(y_train,predictions)\n",
        "print(r2)"
      ],
      "execution_count": null,
      "outputs": [
        {
          "output_type": "stream",
          "name": "stdout",
          "text": [
            "0.9822261541192596\n"
          ]
        }
      ]
    }
  ]
}